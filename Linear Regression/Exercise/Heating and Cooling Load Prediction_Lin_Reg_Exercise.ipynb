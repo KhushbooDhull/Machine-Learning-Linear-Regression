{
 "cells": [
  {
   "cell_type": "code",
   "execution_count": 2,
   "id": "a8561037",
   "metadata": {},
   "outputs": [],
   "source": [
    "import numpy as np \n",
    "import pandas as pd"
   ]
  },
  {
   "cell_type": "markdown",
   "id": "3bf59ba8",
   "metadata": {},
   "source": [
    "#### Feature Description\n",
    "\n",
    "    X1 Relative Compactness\n",
    "    X2 Surface Area\n",
    "    X3 Wall Area\n",
    "    X4 Roof Area\n",
    "    X5 Overall Height\n",
    "    X6 Orientation\n",
    "    X7 Glazing Area\n",
    "    X8 Glazing Area Distribution\n",
    "    y1 Heating Load\n",
    "    y2 Cooling Load\n"
   ]
  },
  {
   "cell_type": "markdown",
   "id": "9afea0b9",
   "metadata": {},
   "source": [
    "#### Exercise on Linear Regression\n",
    "<b> 1) Read the dataset<br>"
   ]
  },
  {
   "cell_type": "code",
   "execution_count": 4,
   "id": "65666b03",
   "metadata": {},
   "outputs": [],
   "source": [
    "df=pd.read_excel('heat_load.xlsx')"
   ]
  },
  {
   "cell_type": "code",
   "execution_count": 5,
   "id": "afbfa7fb",
   "metadata": {},
   "outputs": [
    {
     "data": {
      "text/html": [
       "<div>\n",
       "<style scoped>\n",
       "    .dataframe tbody tr th:only-of-type {\n",
       "        vertical-align: middle;\n",
       "    }\n",
       "\n",
       "    .dataframe tbody tr th {\n",
       "        vertical-align: top;\n",
       "    }\n",
       "\n",
       "    .dataframe thead th {\n",
       "        text-align: right;\n",
       "    }\n",
       "</style>\n",
       "<table border=\"1\" class=\"dataframe\">\n",
       "  <thead>\n",
       "    <tr style=\"text-align: right;\">\n",
       "      <th></th>\n",
       "      <th>X1</th>\n",
       "      <th>X2</th>\n",
       "      <th>X3</th>\n",
       "      <th>X4</th>\n",
       "      <th>X5</th>\n",
       "      <th>X6</th>\n",
       "      <th>X7</th>\n",
       "      <th>X8</th>\n",
       "      <th>Y1</th>\n",
       "      <th>Y2</th>\n",
       "    </tr>\n",
       "  </thead>\n",
       "  <tbody>\n",
       "    <tr>\n",
       "      <th>0</th>\n",
       "      <td>0.98</td>\n",
       "      <td>514.5</td>\n",
       "      <td>294.0</td>\n",
       "      <td>110.25</td>\n",
       "      <td>7.0</td>\n",
       "      <td>2</td>\n",
       "      <td>0.0</td>\n",
       "      <td>0</td>\n",
       "      <td>15.55</td>\n",
       "      <td>21.33</td>\n",
       "    </tr>\n",
       "    <tr>\n",
       "      <th>1</th>\n",
       "      <td>0.98</td>\n",
       "      <td>514.5</td>\n",
       "      <td>294.0</td>\n",
       "      <td>110.25</td>\n",
       "      <td>7.0</td>\n",
       "      <td>3</td>\n",
       "      <td>0.0</td>\n",
       "      <td>0</td>\n",
       "      <td>15.55</td>\n",
       "      <td>21.33</td>\n",
       "    </tr>\n",
       "    <tr>\n",
       "      <th>2</th>\n",
       "      <td>0.98</td>\n",
       "      <td>514.5</td>\n",
       "      <td>294.0</td>\n",
       "      <td>110.25</td>\n",
       "      <td>7.0</td>\n",
       "      <td>4</td>\n",
       "      <td>0.0</td>\n",
       "      <td>0</td>\n",
       "      <td>15.55</td>\n",
       "      <td>21.33</td>\n",
       "    </tr>\n",
       "    <tr>\n",
       "      <th>3</th>\n",
       "      <td>0.98</td>\n",
       "      <td>514.5</td>\n",
       "      <td>294.0</td>\n",
       "      <td>110.25</td>\n",
       "      <td>7.0</td>\n",
       "      <td>5</td>\n",
       "      <td>0.0</td>\n",
       "      <td>0</td>\n",
       "      <td>15.55</td>\n",
       "      <td>21.33</td>\n",
       "    </tr>\n",
       "    <tr>\n",
       "      <th>4</th>\n",
       "      <td>0.90</td>\n",
       "      <td>563.5</td>\n",
       "      <td>318.5</td>\n",
       "      <td>122.50</td>\n",
       "      <td>7.0</td>\n",
       "      <td>2</td>\n",
       "      <td>0.0</td>\n",
       "      <td>0</td>\n",
       "      <td>20.84</td>\n",
       "      <td>28.28</td>\n",
       "    </tr>\n",
       "    <tr>\n",
       "      <th>...</th>\n",
       "      <td>...</td>\n",
       "      <td>...</td>\n",
       "      <td>...</td>\n",
       "      <td>...</td>\n",
       "      <td>...</td>\n",
       "      <td>...</td>\n",
       "      <td>...</td>\n",
       "      <td>...</td>\n",
       "      <td>...</td>\n",
       "      <td>...</td>\n",
       "    </tr>\n",
       "    <tr>\n",
       "      <th>763</th>\n",
       "      <td>0.64</td>\n",
       "      <td>784.0</td>\n",
       "      <td>343.0</td>\n",
       "      <td>220.50</td>\n",
       "      <td>3.5</td>\n",
       "      <td>5</td>\n",
       "      <td>0.4</td>\n",
       "      <td>5</td>\n",
       "      <td>17.88</td>\n",
       "      <td>21.40</td>\n",
       "    </tr>\n",
       "    <tr>\n",
       "      <th>764</th>\n",
       "      <td>0.62</td>\n",
       "      <td>808.5</td>\n",
       "      <td>367.5</td>\n",
       "      <td>220.50</td>\n",
       "      <td>3.5</td>\n",
       "      <td>2</td>\n",
       "      <td>0.4</td>\n",
       "      <td>5</td>\n",
       "      <td>16.54</td>\n",
       "      <td>16.88</td>\n",
       "    </tr>\n",
       "    <tr>\n",
       "      <th>765</th>\n",
       "      <td>0.62</td>\n",
       "      <td>808.5</td>\n",
       "      <td>367.5</td>\n",
       "      <td>220.50</td>\n",
       "      <td>3.5</td>\n",
       "      <td>3</td>\n",
       "      <td>0.4</td>\n",
       "      <td>5</td>\n",
       "      <td>16.44</td>\n",
       "      <td>17.11</td>\n",
       "    </tr>\n",
       "    <tr>\n",
       "      <th>766</th>\n",
       "      <td>0.62</td>\n",
       "      <td>808.5</td>\n",
       "      <td>367.5</td>\n",
       "      <td>220.50</td>\n",
       "      <td>3.5</td>\n",
       "      <td>4</td>\n",
       "      <td>0.4</td>\n",
       "      <td>5</td>\n",
       "      <td>16.48</td>\n",
       "      <td>16.61</td>\n",
       "    </tr>\n",
       "    <tr>\n",
       "      <th>767</th>\n",
       "      <td>0.62</td>\n",
       "      <td>808.5</td>\n",
       "      <td>367.5</td>\n",
       "      <td>220.50</td>\n",
       "      <td>3.5</td>\n",
       "      <td>5</td>\n",
       "      <td>0.4</td>\n",
       "      <td>5</td>\n",
       "      <td>16.64</td>\n",
       "      <td>16.03</td>\n",
       "    </tr>\n",
       "  </tbody>\n",
       "</table>\n",
       "<p>768 rows × 10 columns</p>\n",
       "</div>"
      ],
      "text/plain": [
       "       X1     X2     X3      X4   X5  X6   X7  X8     Y1     Y2\n",
       "0    0.98  514.5  294.0  110.25  7.0   2  0.0   0  15.55  21.33\n",
       "1    0.98  514.5  294.0  110.25  7.0   3  0.0   0  15.55  21.33\n",
       "2    0.98  514.5  294.0  110.25  7.0   4  0.0   0  15.55  21.33\n",
       "3    0.98  514.5  294.0  110.25  7.0   5  0.0   0  15.55  21.33\n",
       "4    0.90  563.5  318.5  122.50  7.0   2  0.0   0  20.84  28.28\n",
       "..    ...    ...    ...     ...  ...  ..  ...  ..    ...    ...\n",
       "763  0.64  784.0  343.0  220.50  3.5   5  0.4   5  17.88  21.40\n",
       "764  0.62  808.5  367.5  220.50  3.5   2  0.4   5  16.54  16.88\n",
       "765  0.62  808.5  367.5  220.50  3.5   3  0.4   5  16.44  17.11\n",
       "766  0.62  808.5  367.5  220.50  3.5   4  0.4   5  16.48  16.61\n",
       "767  0.62  808.5  367.5  220.50  3.5   5  0.4   5  16.64  16.03\n",
       "\n",
       "[768 rows x 10 columns]"
      ]
     },
     "execution_count": 5,
     "metadata": {},
     "output_type": "execute_result"
    }
   ],
   "source": [
    "df"
   ]
  },
  {
   "cell_type": "markdown",
   "id": "2cc02d7c",
   "metadata": {},
   "source": [
    "<b>2) Handle null values (if any).<br>"
   ]
  },
  {
   "cell_type": "code",
   "execution_count": 6,
   "id": "c8ca7f8a",
   "metadata": {},
   "outputs": [
    {
     "data": {
      "text/plain": [
       "X1    0\n",
       "X2    0\n",
       "X3    0\n",
       "X4    0\n",
       "X5    0\n",
       "X6    0\n",
       "X7    0\n",
       "X8    0\n",
       "Y1    0\n",
       "Y2    0\n",
       "dtype: int64"
      ]
     },
     "execution_count": 6,
     "metadata": {},
     "output_type": "execute_result"
    }
   ],
   "source": [
    "df.isnull().sum()"
   ]
  },
  {
   "cell_type": "code",
   "execution_count": 7,
   "id": "43fab279",
   "metadata": {},
   "outputs": [],
   "source": [
    "from sklearn.model_selection import train_test_split"
   ]
  },
  {
   "cell_type": "markdown",
   "id": "2db3aa54",
   "metadata": {},
   "source": [
    "<b>3) Based on features from X1-X8 predict Heating load(y1) and Cooling Load(y2) as per the following requirements<br>\n",
    "a) Split the data into training and test set with test_size as 25% of whole data<br>"
   ]
  },
  {
   "cell_type": "code",
   "execution_count": 16,
   "id": "351de2d5",
   "metadata": {},
   "outputs": [],
   "source": [
    "x=df.iloc[:,:-2]\n",
    "y1=df['Y1']\n",
    "y2=df['Y2']"
   ]
  },
  {
   "cell_type": "code",
   "execution_count": 18,
   "id": "16285d6b",
   "metadata": {},
   "outputs": [
    {
     "data": {
      "text/html": [
       "<div>\n",
       "<style scoped>\n",
       "    .dataframe tbody tr th:only-of-type {\n",
       "        vertical-align: middle;\n",
       "    }\n",
       "\n",
       "    .dataframe tbody tr th {\n",
       "        vertical-align: top;\n",
       "    }\n",
       "\n",
       "    .dataframe thead th {\n",
       "        text-align: right;\n",
       "    }\n",
       "</style>\n",
       "<table border=\"1\" class=\"dataframe\">\n",
       "  <thead>\n",
       "    <tr style=\"text-align: right;\">\n",
       "      <th></th>\n",
       "      <th>X1</th>\n",
       "      <th>X2</th>\n",
       "      <th>X3</th>\n",
       "      <th>X4</th>\n",
       "      <th>X5</th>\n",
       "      <th>X6</th>\n",
       "      <th>X7</th>\n",
       "      <th>X8</th>\n",
       "    </tr>\n",
       "  </thead>\n",
       "  <tbody>\n",
       "    <tr>\n",
       "      <th>0</th>\n",
       "      <td>0.98</td>\n",
       "      <td>514.5</td>\n",
       "      <td>294.0</td>\n",
       "      <td>110.25</td>\n",
       "      <td>7.0</td>\n",
       "      <td>2</td>\n",
       "      <td>0.0</td>\n",
       "      <td>0</td>\n",
       "    </tr>\n",
       "    <tr>\n",
       "      <th>1</th>\n",
       "      <td>0.98</td>\n",
       "      <td>514.5</td>\n",
       "      <td>294.0</td>\n",
       "      <td>110.25</td>\n",
       "      <td>7.0</td>\n",
       "      <td>3</td>\n",
       "      <td>0.0</td>\n",
       "      <td>0</td>\n",
       "    </tr>\n",
       "    <tr>\n",
       "      <th>2</th>\n",
       "      <td>0.98</td>\n",
       "      <td>514.5</td>\n",
       "      <td>294.0</td>\n",
       "      <td>110.25</td>\n",
       "      <td>7.0</td>\n",
       "      <td>4</td>\n",
       "      <td>0.0</td>\n",
       "      <td>0</td>\n",
       "    </tr>\n",
       "    <tr>\n",
       "      <th>3</th>\n",
       "      <td>0.98</td>\n",
       "      <td>514.5</td>\n",
       "      <td>294.0</td>\n",
       "      <td>110.25</td>\n",
       "      <td>7.0</td>\n",
       "      <td>5</td>\n",
       "      <td>0.0</td>\n",
       "      <td>0</td>\n",
       "    </tr>\n",
       "    <tr>\n",
       "      <th>4</th>\n",
       "      <td>0.90</td>\n",
       "      <td>563.5</td>\n",
       "      <td>318.5</td>\n",
       "      <td>122.50</td>\n",
       "      <td>7.0</td>\n",
       "      <td>2</td>\n",
       "      <td>0.0</td>\n",
       "      <td>0</td>\n",
       "    </tr>\n",
       "  </tbody>\n",
       "</table>\n",
       "</div>"
      ],
      "text/plain": [
       "     X1     X2     X3      X4   X5  X6   X7  X8\n",
       "0  0.98  514.5  294.0  110.25  7.0   2  0.0   0\n",
       "1  0.98  514.5  294.0  110.25  7.0   3  0.0   0\n",
       "2  0.98  514.5  294.0  110.25  7.0   4  0.0   0\n",
       "3  0.98  514.5  294.0  110.25  7.0   5  0.0   0\n",
       "4  0.90  563.5  318.5  122.50  7.0   2  0.0   0"
      ]
     },
     "execution_count": 18,
     "metadata": {},
     "output_type": "execute_result"
    }
   ],
   "source": [
    "x.head()\n",
    "#y1.head()\n",
    "#y2.head()"
   ]
  },
  {
   "cell_type": "code",
   "execution_count": 24,
   "id": "d68506f7",
   "metadata": {},
   "outputs": [
    {
     "name": "stdout",
     "output_type": "stream",
     "text": [
      "(576, 8)\n",
      "(192, 8)\n",
      "(576,)\n",
      "(192,)\n"
     ]
    }
   ],
   "source": [
    "x_train,x_test,y1_train,y1_test=train_test_split(x,y1,test_size=0.25,random_state=15)\n",
    "# prints random data\n",
    "print(x_train.shape)\n",
    "print(x_test.shape)\n",
    "print(y1_train.shape)\n",
    "print(y1_test.shape)"
   ]
  },
  {
   "cell_type": "code",
   "execution_count": 25,
   "id": "cd6ee9dd",
   "metadata": {},
   "outputs": [
    {
     "data": {
      "text/html": [
       "<div>\n",
       "<style scoped>\n",
       "    .dataframe tbody tr th:only-of-type {\n",
       "        vertical-align: middle;\n",
       "    }\n",
       "\n",
       "    .dataframe tbody tr th {\n",
       "        vertical-align: top;\n",
       "    }\n",
       "\n",
       "    .dataframe thead th {\n",
       "        text-align: right;\n",
       "    }\n",
       "</style>\n",
       "<table border=\"1\" class=\"dataframe\">\n",
       "  <thead>\n",
       "    <tr style=\"text-align: right;\">\n",
       "      <th></th>\n",
       "      <th>X1</th>\n",
       "      <th>X2</th>\n",
       "      <th>X3</th>\n",
       "      <th>X4</th>\n",
       "      <th>X5</th>\n",
       "      <th>X6</th>\n",
       "      <th>X7</th>\n",
       "      <th>X8</th>\n",
       "    </tr>\n",
       "  </thead>\n",
       "  <tbody>\n",
       "    <tr>\n",
       "      <th>548</th>\n",
       "      <td>0.76</td>\n",
       "      <td>661.5</td>\n",
       "      <td>416.5</td>\n",
       "      <td>122.50</td>\n",
       "      <td>7.0</td>\n",
       "      <td>2</td>\n",
       "      <td>0.40</td>\n",
       "      <td>1</td>\n",
       "    </tr>\n",
       "    <tr>\n",
       "      <th>161</th>\n",
       "      <td>0.79</td>\n",
       "      <td>637.0</td>\n",
       "      <td>343.0</td>\n",
       "      <td>147.00</td>\n",
       "      <td>7.0</td>\n",
       "      <td>3</td>\n",
       "      <td>0.10</td>\n",
       "      <td>3</td>\n",
       "    </tr>\n",
       "    <tr>\n",
       "      <th>233</th>\n",
       "      <td>0.64</td>\n",
       "      <td>784.0</td>\n",
       "      <td>343.0</td>\n",
       "      <td>220.50</td>\n",
       "      <td>3.5</td>\n",
       "      <td>3</td>\n",
       "      <td>0.10</td>\n",
       "      <td>4</td>\n",
       "    </tr>\n",
       "    <tr>\n",
       "      <th>289</th>\n",
       "      <td>0.98</td>\n",
       "      <td>514.5</td>\n",
       "      <td>294.0</td>\n",
       "      <td>110.25</td>\n",
       "      <td>7.0</td>\n",
       "      <td>3</td>\n",
       "      <td>0.25</td>\n",
       "      <td>1</td>\n",
       "    </tr>\n",
       "    <tr>\n",
       "      <th>763</th>\n",
       "      <td>0.64</td>\n",
       "      <td>784.0</td>\n",
       "      <td>343.0</td>\n",
       "      <td>220.50</td>\n",
       "      <td>3.5</td>\n",
       "      <td>5</td>\n",
       "      <td>0.40</td>\n",
       "      <td>5</td>\n",
       "    </tr>\n",
       "  </tbody>\n",
       "</table>\n",
       "</div>"
      ],
      "text/plain": [
       "       X1     X2     X3      X4   X5  X6    X7  X8\n",
       "548  0.76  661.5  416.5  122.50  7.0   2  0.40   1\n",
       "161  0.79  637.0  343.0  147.00  7.0   3  0.10   3\n",
       "233  0.64  784.0  343.0  220.50  3.5   3  0.10   4\n",
       "289  0.98  514.5  294.0  110.25  7.0   3  0.25   1\n",
       "763  0.64  784.0  343.0  220.50  3.5   5  0.40   5"
      ]
     },
     "execution_count": 25,
     "metadata": {},
     "output_type": "execute_result"
    }
   ],
   "source": [
    "x_train.head()"
   ]
  },
  {
   "cell_type": "code",
   "execution_count": 26,
   "id": "c0d2c67b",
   "metadata": {
    "scrolled": true
   },
   "outputs": [
    {
     "name": "stdout",
     "output_type": "stream",
     "text": [
      "(576, 8)\n",
      "(192, 8)\n",
      "(576,)\n",
      "(192,)\n"
     ]
    }
   ],
   "source": [
    "x_train,x_test,y2_train,y2_test=train_test_split(x,y2,test_size=0.25,random_state=15)\n",
    "# prints random data\n",
    "print(x_train.shape)\n",
    "print(x_test.shape)\n",
    "print(y2_train.shape)\n",
    "print(y2_test.shape)"
   ]
  },
  {
   "cell_type": "code",
   "execution_count": 27,
   "id": "560578b3",
   "metadata": {},
   "outputs": [
    {
     "data": {
      "text/html": [
       "<div>\n",
       "<style scoped>\n",
       "    .dataframe tbody tr th:only-of-type {\n",
       "        vertical-align: middle;\n",
       "    }\n",
       "\n",
       "    .dataframe tbody tr th {\n",
       "        vertical-align: top;\n",
       "    }\n",
       "\n",
       "    .dataframe thead th {\n",
       "        text-align: right;\n",
       "    }\n",
       "</style>\n",
       "<table border=\"1\" class=\"dataframe\">\n",
       "  <thead>\n",
       "    <tr style=\"text-align: right;\">\n",
       "      <th></th>\n",
       "      <th>X1</th>\n",
       "      <th>X2</th>\n",
       "      <th>X3</th>\n",
       "      <th>X4</th>\n",
       "      <th>X5</th>\n",
       "      <th>X6</th>\n",
       "      <th>X7</th>\n",
       "      <th>X8</th>\n",
       "    </tr>\n",
       "  </thead>\n",
       "  <tbody>\n",
       "    <tr>\n",
       "      <th>548</th>\n",
       "      <td>0.76</td>\n",
       "      <td>661.5</td>\n",
       "      <td>416.5</td>\n",
       "      <td>122.50</td>\n",
       "      <td>7.0</td>\n",
       "      <td>2</td>\n",
       "      <td>0.40</td>\n",
       "      <td>1</td>\n",
       "    </tr>\n",
       "    <tr>\n",
       "      <th>161</th>\n",
       "      <td>0.79</td>\n",
       "      <td>637.0</td>\n",
       "      <td>343.0</td>\n",
       "      <td>147.00</td>\n",
       "      <td>7.0</td>\n",
       "      <td>3</td>\n",
       "      <td>0.10</td>\n",
       "      <td>3</td>\n",
       "    </tr>\n",
       "    <tr>\n",
       "      <th>233</th>\n",
       "      <td>0.64</td>\n",
       "      <td>784.0</td>\n",
       "      <td>343.0</td>\n",
       "      <td>220.50</td>\n",
       "      <td>3.5</td>\n",
       "      <td>3</td>\n",
       "      <td>0.10</td>\n",
       "      <td>4</td>\n",
       "    </tr>\n",
       "    <tr>\n",
       "      <th>289</th>\n",
       "      <td>0.98</td>\n",
       "      <td>514.5</td>\n",
       "      <td>294.0</td>\n",
       "      <td>110.25</td>\n",
       "      <td>7.0</td>\n",
       "      <td>3</td>\n",
       "      <td>0.25</td>\n",
       "      <td>1</td>\n",
       "    </tr>\n",
       "    <tr>\n",
       "      <th>763</th>\n",
       "      <td>0.64</td>\n",
       "      <td>784.0</td>\n",
       "      <td>343.0</td>\n",
       "      <td>220.50</td>\n",
       "      <td>3.5</td>\n",
       "      <td>5</td>\n",
       "      <td>0.40</td>\n",
       "      <td>5</td>\n",
       "    </tr>\n",
       "  </tbody>\n",
       "</table>\n",
       "</div>"
      ],
      "text/plain": [
       "       X1     X2     X3      X4   X5  X6    X7  X8\n",
       "548  0.76  661.5  416.5  122.50  7.0   2  0.40   1\n",
       "161  0.79  637.0  343.0  147.00  7.0   3  0.10   3\n",
       "233  0.64  784.0  343.0  220.50  3.5   3  0.10   4\n",
       "289  0.98  514.5  294.0  110.25  7.0   3  0.25   1\n",
       "763  0.64  784.0  343.0  220.50  3.5   5  0.40   5"
      ]
     },
     "execution_count": 27,
     "metadata": {},
     "output_type": "execute_result"
    }
   ],
   "source": [
    "x_train.head()"
   ]
  },
  {
   "cell_type": "markdown",
   "id": "1af44fbe",
   "metadata": {},
   "source": [
    "<b>b) Generate predictions for Heating load (y1) through predict function. <br>\n",
    "\n"
   ]
  },
  {
   "cell_type": "code",
   "execution_count": 28,
   "id": "b0c511fd",
   "metadata": {},
   "outputs": [],
   "source": [
    "from sklearn.linear_model import LinearRegression"
   ]
  },
  {
   "cell_type": "code",
   "execution_count": 29,
   "id": "215205b0",
   "metadata": {},
   "outputs": [
    {
     "data": {
      "text/plain": [
       "LinearRegression()"
      ]
     },
     "execution_count": 29,
     "metadata": {},
     "output_type": "execute_result"
    }
   ],
   "source": [
    "model1=LinearRegression()\n",
    "model1.fit(x_train,y1_train)"
   ]
  },
  {
   "cell_type": "code",
   "execution_count": 38,
   "id": "e59f546d",
   "metadata": {},
   "outputs": [
    {
     "name": "stdout",
     "output_type": "stream",
     "text": [
      "ypred1 [30.42290797 32.98377532  7.63189927 29.06539992 40.48841337  7.83612147\n",
      " 14.75900485 35.97486562 28.42827681 10.68630058 31.07423372 16.29086849\n",
      " 33.00453486  9.93145224  9.11737147 25.37106747 39.53724847 16.18897854\n",
      " 13.80666253 26.0580839  35.63636731 35.16078486 11.55841233 27.88555631\n",
      " 28.04709696 14.95411998 18.61837985 15.43039629  9.25164758 32.84669117\n",
      " 33.75147757 16.01950823 30.13078817 34.22584567  9.18450953 32.30779771\n",
      " 12.18341233 39.87855481 16.99814798 14.14516083 27.61419605 13.87380058\n",
      " 37.63542623 34.63429007 12.69093863 31.64702681 33.05474042 10.89052278\n",
      " 34.58102492 32.11980123 35.29506097 17.94138323 28.52267941  8.91314927\n",
      "  8.62366824 18.49643714 29.39048055 36.17908782 18.76779739 31.09843871\n",
      " 12.30604889 27.23423055 28.22405461 32.09974847 35.70350537 18.36216103\n",
      " 32.37110872 15.02125803 13.06463114 35.10706448  9.16126713 14.28342239\n",
      " 28.56255292 36.48284716 32.37774381 14.34938303  9.38873173 30.06747717\n",
      " 13.09938303 15.83603265 26.73788856 40.01283092 30.83294605 12.78163134\n",
      " 25.64995176 22.56547787 12.57740914  9.78626713 36.24622587 11.56634198\n",
      " 27.0971464  14.41139947 15.30775973 15.49753434 11.09474498 16.15378434\n",
      " 36.95842961 30.49285406  8.17461978 15.4268944  27.43564471 28.79403967\n",
      " 27.50559081 32.78338017 28.91107105 18.42929909 12.51027109 29.32053446\n",
      " 34.02162347 26.99052732  9.22840518 11.69549647 34.56434397 30.13461522\n",
      " 33.81861562 28.72690161 16.12184049 36.68706936  8.58025614 18.27988154\n",
      " 15.15903603 17.94650485 11.63746549 13.57496549 12.44313303 12.04913622\n",
      " 33.13881097 14.9592416  16.92820189 17.81222874 23.66093871 25.9238078\n",
      " 10.61916253 32.92046431 17.87143714 27.03000835 11.43324329 26.9628703\n",
      " 36.75420741 12.62380058 11.83770224 28.08697047 34.97278837 34.22425198\n",
      " 33.27589511 30.06365012 30.93995761 30.76421431 31.82117643 33.34303317\n",
      " 15.36325823  9.70367538 14.82053773  8.8516164  32.10638355 28.9782091\n",
      " 15.6311166  17.80429909 37.50115012 32.64910406 19.03915765 37.22978987\n",
      " 30.89849042 12.03399478 11.16188303 34.30966467 33.18518948 15.17067558\n",
      " 26.85625121 10.55202447 32.57533092 16.35800654 14.01088473 36.89129156\n",
      " 31.03436021 29.79228987 36.31336393 17.60800654 17.67002298 29.59189471\n",
      " 12.79327089  9.29554324 28.01983241 10.75343863  6.58314213 31.71416487\n",
      " 25.03256916 28.76677512 10.75226122 14.01206214 34.29298372 34.83570423]\n"
     ]
    }
   ],
   "source": [
    "ypred1=model1.predict(x_test)\n",
    "print('ypred1',ypred1)"
   ]
  },
  {
   "cell_type": "markdown",
   "id": "86da8b6b",
   "metadata": {},
   "source": [
    "<b>c) Generate model coefficients and intercept. <br>\n",
    "\n"
   ]
  },
  {
   "cell_type": "code",
   "execution_count": 39,
   "id": "0f7c0886",
   "metadata": {},
   "outputs": [
    {
     "name": "stdout",
     "output_type": "stream",
     "text": [
      "Coefficient or Slope: [-6.33829616e+01 -2.09382124e+11  2.09382124e+11  4.18764249e+11\n",
      "  4.17624545e+00  6.71380535e-02  1.99150884e+01  2.71360254e-01]\n",
      "Intercept or Constant: 81.42575694444444\n"
     ]
    }
   ],
   "source": [
    "m=model1.coef_\n",
    "c=model1.intercept_\n",
    "print('Coefficient or Slope:',m)\n",
    "print('Intercept or Constant:',c)"
   ]
  },
  {
   "cell_type": "markdown",
   "id": "dac43829",
   "metadata": {},
   "source": [
    "<b>d) Generate predictions for Heating load (y1) using the equation of Linear Regression<br>\n",
    "\n",
    "\n"
   ]
  },
  {
   "cell_type": "code",
   "execution_count": 33,
   "id": "f069bc24",
   "metadata": {},
   "outputs": [
    {
     "data": {
      "text/plain": [
       "Index(['X1', 'X2', 'X3', 'X4', 'X5', 'X6', 'X7', 'X8'], dtype='object')"
      ]
     },
     "execution_count": 33,
     "metadata": {},
     "output_type": "execute_result"
    }
   ],
   "source": [
    "x.columns"
   ]
  },
  {
   "cell_type": "code",
   "execution_count": 34,
   "id": "63d9158a",
   "metadata": {},
   "outputs": [
    {
     "data": {
      "text/html": [
       "<div>\n",
       "<style scoped>\n",
       "    .dataframe tbody tr th:only-of-type {\n",
       "        vertical-align: middle;\n",
       "    }\n",
       "\n",
       "    .dataframe tbody tr th {\n",
       "        vertical-align: top;\n",
       "    }\n",
       "\n",
       "    .dataframe thead th {\n",
       "        text-align: right;\n",
       "    }\n",
       "</style>\n",
       "<table border=\"1\" class=\"dataframe\">\n",
       "  <thead>\n",
       "    <tr style=\"text-align: right;\">\n",
       "      <th></th>\n",
       "      <th>X1</th>\n",
       "      <th>X2</th>\n",
       "      <th>X3</th>\n",
       "      <th>X4</th>\n",
       "      <th>X5</th>\n",
       "      <th>X6</th>\n",
       "      <th>X7</th>\n",
       "      <th>X8</th>\n",
       "      <th>Y1</th>\n",
       "      <th>Y2</th>\n",
       "      <th>ypred1_eqn</th>\n",
       "    </tr>\n",
       "  </thead>\n",
       "  <tbody>\n",
       "    <tr>\n",
       "      <th>0</th>\n",
       "      <td>0.98</td>\n",
       "      <td>514.5</td>\n",
       "      <td>294.0</td>\n",
       "      <td>110.25</td>\n",
       "      <td>7.0</td>\n",
       "      <td>2</td>\n",
       "      <td>0.0</td>\n",
       "      <td>0</td>\n",
       "      <td>15.55</td>\n",
       "      <td>21.33</td>\n",
       "      <td>22.364064</td>\n",
       "    </tr>\n",
       "    <tr>\n",
       "      <th>1</th>\n",
       "      <td>0.98</td>\n",
       "      <td>514.5</td>\n",
       "      <td>294.0</td>\n",
       "      <td>110.25</td>\n",
       "      <td>7.0</td>\n",
       "      <td>3</td>\n",
       "      <td>0.0</td>\n",
       "      <td>0</td>\n",
       "      <td>15.55</td>\n",
       "      <td>21.33</td>\n",
       "      <td>22.431202</td>\n",
       "    </tr>\n",
       "    <tr>\n",
       "      <th>2</th>\n",
       "      <td>0.98</td>\n",
       "      <td>514.5</td>\n",
       "      <td>294.0</td>\n",
       "      <td>110.25</td>\n",
       "      <td>7.0</td>\n",
       "      <td>4</td>\n",
       "      <td>0.0</td>\n",
       "      <td>0</td>\n",
       "      <td>15.55</td>\n",
       "      <td>21.33</td>\n",
       "      <td>22.498340</td>\n",
       "    </tr>\n",
       "    <tr>\n",
       "      <th>3</th>\n",
       "      <td>0.98</td>\n",
       "      <td>514.5</td>\n",
       "      <td>294.0</td>\n",
       "      <td>110.25</td>\n",
       "      <td>7.0</td>\n",
       "      <td>5</td>\n",
       "      <td>0.0</td>\n",
       "      <td>0</td>\n",
       "      <td>15.55</td>\n",
       "      <td>21.33</td>\n",
       "      <td>22.565478</td>\n",
       "    </tr>\n",
       "    <tr>\n",
       "      <th>4</th>\n",
       "      <td>0.90</td>\n",
       "      <td>563.5</td>\n",
       "      <td>318.5</td>\n",
       "      <td>122.50</td>\n",
       "      <td>7.0</td>\n",
       "      <td>2</td>\n",
       "      <td>0.0</td>\n",
       "      <td>0</td>\n",
       "      <td>20.84</td>\n",
       "      <td>28.28</td>\n",
       "      <td>24.700001</td>\n",
       "    </tr>\n",
       "  </tbody>\n",
       "</table>\n",
       "</div>"
      ],
      "text/plain": [
       "     X1     X2     X3      X4   X5  X6   X7  X8     Y1     Y2  ypred1_eqn\n",
       "0  0.98  514.5  294.0  110.25  7.0   2  0.0   0  15.55  21.33   22.364064\n",
       "1  0.98  514.5  294.0  110.25  7.0   3  0.0   0  15.55  21.33   22.431202\n",
       "2  0.98  514.5  294.0  110.25  7.0   4  0.0   0  15.55  21.33   22.498340\n",
       "3  0.98  514.5  294.0  110.25  7.0   5  0.0   0  15.55  21.33   22.565478\n",
       "4  0.90  563.5  318.5  122.50  7.0   2  0.0   0  20.84  28.28   24.700001"
      ]
     },
     "execution_count": 34,
     "metadata": {},
     "output_type": "execute_result"
    }
   ],
   "source": [
    "df['ypred1_eqn']=df['X1']*m[0]+df['X2']*m[1]+df['X3']*m[2]+df['X4']*m[3]+df['X5']*m[4]+df['X6']*m[5]+df['X7']*m[6]+df['X8']*m[7]+c\n",
    "df.head()"
   ]
  },
  {
   "cell_type": "markdown",
   "id": "ad9ede9e",
   "metadata": {},
   "source": [
    "<b>e) Compute MSE,RMSE, MAE, R2_score for the model generated.<br>\n",
    "\n"
   ]
  },
  {
   "cell_type": "code",
   "execution_count": 35,
   "id": "3a5ff7ed",
   "metadata": {},
   "outputs": [],
   "source": [
    "from sklearn.metrics import mean_squared_error,mean_absolute_error,r2_score"
   ]
  },
  {
   "cell_type": "code",
   "execution_count": 37,
   "id": "4c48416c",
   "metadata": {},
   "outputs": [
    {
     "name": "stdout",
     "output_type": "stream",
     "text": [
      "mse 9.721652583785923\n",
      "mae 2.287882629857191\n",
      "rmse 3.1179564756080103\n",
      "r2_score 0.9085478469733865\n",
      "Model_Score 0.9085478469733865\n"
     ]
    }
   ],
   "source": [
    "mse1=mean_squared_error(y1_test,ypred1)\n",
    "mae1=mean_absolute_error(y1_test,ypred1)\n",
    "rmse1=np.sqrt(mean_squared_error(y1_test,ypred1))\n",
    "r2_1=r2_score(y1_test,ypred1)\n",
    "print('mse',mse1)\n",
    "print('mae',mae1)\n",
    "print('rmse',rmse1)\n",
    "print('r2_score',r2_1)\n",
    "print('Model_Score',model1.score(x_test,y1_test))"
   ]
  },
  {
   "cell_type": "markdown",
   "id": "b5844341",
   "metadata": {},
   "source": [
    "<b>f) Generate predictions for Cooling load (y2) through predict function. <br>\n"
   ]
  },
  {
   "cell_type": "code",
   "execution_count": 40,
   "id": "21c49a92",
   "metadata": {},
   "outputs": [
    {
     "data": {
      "text/plain": [
       "LinearRegression()"
      ]
     },
     "execution_count": 40,
     "metadata": {},
     "output_type": "execute_result"
    }
   ],
   "source": [
    "model2=LinearRegression()\n",
    "model2.fit(x_train,y2_train)"
   ]
  },
  {
   "cell_type": "code",
   "execution_count": 41,
   "id": "a7851a09",
   "metadata": {},
   "outputs": [
    {
     "name": "stdout",
     "output_type": "stream",
     "text": [
      "ypred2 [32.20775972 33.57379522 11.94013043 31.26790478 40.09756121 11.8886552\n",
      " 17.12054435 36.43777046 29.59276201 14.35154513 32.10712718 17.99134662\n",
      " 33.9193357  13.35240246 12.9433427  27.79630801 39.92780517 17.77944216\n",
      " 16.57777914 28.95686677 36.11358872 36.0287107  14.87014642 29.3200555\n",
      " 30.91032025 16.99078216 19.86273185 17.71469686 13.31899967 33.81309895\n",
      " 34.14056697 17.85499337 31.72586599 35.30601744 13.13117118 34.18078146\n",
      " 15.19827142 39.63702622 18.74989011 16.90196088 29.18370225 16.76560763\n",
      " 38.24963198 35.20306697 15.92218612 32.97948076 34.40201274 14.30006989\n",
      " 35.83821728 33.67931948 36.40436767 19.21436837 30.99519827 12.99481793\n",
      " 12.92327736 19.96962558 31.53006304 36.38629522 20.10597883 33.29840323\n",
      " 15.73041437 29.42068804 29.64423724 33.59186767 36.3014172  19.5939686\n",
      " 33.72822093 17.17861065 15.79515967 35.90290569 12.87574538 17.03566633\n",
      " 29.96841899 37.51639047 33.75364925 16.85048565 13.07969595 32.17842653\n",
      " 15.81923565 18.22670709 28.99026955 40.01268319 32.570421   15.81529239\n",
      " 28.91591922 25.90485744 15.86676762 13.20387038 36.57412371 14.5754242\n",
      " 29.65999177 16.71807565 17.1825539  17.90252535 14.24859466 18.23065035\n",
      " 37.60126849 31.78062751 12.21283694 17.69062088 29.98417351 31.13155153\n",
      " 29.5570413  34.26565948 30.804796   19.78179709 15.67893914 31.95719525\n",
      " 35.35749267 30.1506227  13.06357387 14.6308427  35.63019918 32.36625502\n",
      " 34.32839546 30.94372304 17.59161367 37.46491524 12.72484717 19.53855011\n",
      " 17.5783436  19.53460685 14.52130117 15.90411367 15.49111065 14.82261444\n",
      " 34.29499267 17.31102064 19.17702233 19.15894988 26.96246573 28.58120979\n",
      " 14.16371664 34.02635576 19.64150058 29.47216328 14.5727764  29.28433479\n",
      " 37.65274373 15.73435763 14.71177746 29.88354097 35.52724871 34.84040569\n",
      " 34.05568895 31.5380375  31.7314702  31.91698076 32.32835845 34.24351744\n",
      " 17.52686837 13.69859991 17.25416186 12.86120042 33.617296   30.99262449\n",
      " 17.63914564 19.45367209 37.873975   33.89000251 20.24233209 37.73762175\n",
      " 32.29263774 14.95502444 14.43642315 35.70186403 34.13728069 17.42185763\n",
      " 29.77496573 13.97588815 33.67674569 18.17917511 16.5263039  37.41344001\n",
      " 33.13390646 31.40168425 36.7619522  19.21042511 19.07801511 32.09354851\n",
      " 15.65880642 13.25140236 29.69571248 14.53937362 11.18824538 33.16730925\n",
      " 27.47212627 29.91694375 14.16636444 16.89931308 35.49384593 35.76655244]\n"
     ]
    }
   ],
   "source": [
    "ypred2=model2.predict(x_test)\n",
    "print('ypred2',ypred2)"
   ]
  },
  {
   "cell_type": "markdown",
   "id": "cdd8e919",
   "metadata": {},
   "source": [
    "<b>g) Generate model coefficients and intercept. <br>\n"
   ]
  },
  {
   "cell_type": "code",
   "execution_count": 43,
   "id": "80a8b839",
   "metadata": {},
   "outputs": [
    {
     "name": "stdout",
     "output_type": "stream",
     "text": [
      "Coefficient or Slope: [-7.24890731e+01  1.48990318e+11 -1.48990318e+11 -2.97980636e+11\n",
      "  3.88192010e+00  1.87828489e-01  1.48239081e+01  1.36353254e-01]\n",
      "Intercept or Constant: 103.63211805555555\n"
     ]
    }
   ],
   "source": [
    "m1=model2.coef_\n",
    "c1=model2.intercept_\n",
    "print('Coefficient or Slope:',m1)\n",
    "print('Intercept or Constant:',c1)"
   ]
  },
  {
   "cell_type": "markdown",
   "id": "cad95c8f",
   "metadata": {},
   "source": [
    "<b>h) Generate predictions for Cooling load (y2) using the equation of Linear Regression<br>\n"
   ]
  },
  {
   "cell_type": "code",
   "execution_count": 44,
   "id": "9dc858dc",
   "metadata": {},
   "outputs": [
    {
     "data": {
      "text/html": [
       "<div>\n",
       "<style scoped>\n",
       "    .dataframe tbody tr th:only-of-type {\n",
       "        vertical-align: middle;\n",
       "    }\n",
       "\n",
       "    .dataframe tbody tr th {\n",
       "        vertical-align: top;\n",
       "    }\n",
       "\n",
       "    .dataframe thead th {\n",
       "        text-align: right;\n",
       "    }\n",
       "</style>\n",
       "<table border=\"1\" class=\"dataframe\">\n",
       "  <thead>\n",
       "    <tr style=\"text-align: right;\">\n",
       "      <th></th>\n",
       "      <th>X1</th>\n",
       "      <th>X2</th>\n",
       "      <th>X3</th>\n",
       "      <th>X4</th>\n",
       "      <th>X5</th>\n",
       "      <th>X6</th>\n",
       "      <th>X7</th>\n",
       "      <th>X8</th>\n",
       "      <th>Y1</th>\n",
       "      <th>Y2</th>\n",
       "      <th>ypred1_eqn</th>\n",
       "      <th>ypred2_eqn</th>\n",
       "    </tr>\n",
       "  </thead>\n",
       "  <tbody>\n",
       "    <tr>\n",
       "      <th>0</th>\n",
       "      <td>0.98</td>\n",
       "      <td>514.5</td>\n",
       "      <td>294.0</td>\n",
       "      <td>110.25</td>\n",
       "      <td>7.0</td>\n",
       "      <td>2</td>\n",
       "      <td>0.0</td>\n",
       "      <td>0</td>\n",
       "      <td>15.55</td>\n",
       "      <td>21.33</td>\n",
       "      <td>22.364064</td>\n",
       "      <td>25.341372</td>\n",
       "    </tr>\n",
       "    <tr>\n",
       "      <th>1</th>\n",
       "      <td>0.98</td>\n",
       "      <td>514.5</td>\n",
       "      <td>294.0</td>\n",
       "      <td>110.25</td>\n",
       "      <td>7.0</td>\n",
       "      <td>3</td>\n",
       "      <td>0.0</td>\n",
       "      <td>0</td>\n",
       "      <td>15.55</td>\n",
       "      <td>21.33</td>\n",
       "      <td>22.431202</td>\n",
       "      <td>25.529200</td>\n",
       "    </tr>\n",
       "    <tr>\n",
       "      <th>2</th>\n",
       "      <td>0.98</td>\n",
       "      <td>514.5</td>\n",
       "      <td>294.0</td>\n",
       "      <td>110.25</td>\n",
       "      <td>7.0</td>\n",
       "      <td>4</td>\n",
       "      <td>0.0</td>\n",
       "      <td>0</td>\n",
       "      <td>15.55</td>\n",
       "      <td>21.33</td>\n",
       "      <td>22.498340</td>\n",
       "      <td>25.717029</td>\n",
       "    </tr>\n",
       "    <tr>\n",
       "      <th>3</th>\n",
       "      <td>0.98</td>\n",
       "      <td>514.5</td>\n",
       "      <td>294.0</td>\n",
       "      <td>110.25</td>\n",
       "      <td>7.0</td>\n",
       "      <td>5</td>\n",
       "      <td>0.0</td>\n",
       "      <td>0</td>\n",
       "      <td>15.55</td>\n",
       "      <td>21.33</td>\n",
       "      <td>22.565478</td>\n",
       "      <td>25.904857</td>\n",
       "    </tr>\n",
       "    <tr>\n",
       "      <th>4</th>\n",
       "      <td>0.90</td>\n",
       "      <td>563.5</td>\n",
       "      <td>318.5</td>\n",
       "      <td>122.50</td>\n",
       "      <td>7.0</td>\n",
       "      <td>2</td>\n",
       "      <td>0.0</td>\n",
       "      <td>0</td>\n",
       "      <td>20.84</td>\n",
       "      <td>28.28</td>\n",
       "      <td>24.700001</td>\n",
       "      <td>27.665591</td>\n",
       "    </tr>\n",
       "  </tbody>\n",
       "</table>\n",
       "</div>"
      ],
      "text/plain": [
       "     X1     X2     X3      X4   X5  X6   X7  X8     Y1     Y2  ypred1_eqn  \\\n",
       "0  0.98  514.5  294.0  110.25  7.0   2  0.0   0  15.55  21.33   22.364064   \n",
       "1  0.98  514.5  294.0  110.25  7.0   3  0.0   0  15.55  21.33   22.431202   \n",
       "2  0.98  514.5  294.0  110.25  7.0   4  0.0   0  15.55  21.33   22.498340   \n",
       "3  0.98  514.5  294.0  110.25  7.0   5  0.0   0  15.55  21.33   22.565478   \n",
       "4  0.90  563.5  318.5  122.50  7.0   2  0.0   0  20.84  28.28   24.700001   \n",
       "\n",
       "   ypred2_eqn  \n",
       "0   25.341372  \n",
       "1   25.529200  \n",
       "2   25.717029  \n",
       "3   25.904857  \n",
       "4   27.665591  "
      ]
     },
     "execution_count": 44,
     "metadata": {},
     "output_type": "execute_result"
    }
   ],
   "source": [
    "df['ypred2_eqn']=df['X1']*m1[0]+df['X2']*m1[1]+df['X3']*m1[2]+df['X4']*m1[3]+df['X5']*m1[4]+df['X6']*m1[5]+df['X7']*m1[6]+df['X8']*m1[7]+c1\n",
    "df.head()"
   ]
  },
  {
   "cell_type": "markdown",
   "id": "a8373e76",
   "metadata": {},
   "source": [
    "<b>i) Compute MSE,RMSE, MAE, R2_score for the model generated.\n",
    "\n",
    "\n",
    "\n"
   ]
  },
  {
   "cell_type": "code",
   "execution_count": 45,
   "id": "934020dc",
   "metadata": {},
   "outputs": [
    {
     "name": "stdout",
     "output_type": "stream",
     "text": [
      "mse 14.31015659539274\n",
      "mae 2.6059589299827155\n",
      "rmse 3.782876761856344\n",
      "r2_score 0.8594096961303332\n",
      "Model_Score 0.8594096961303332\n"
     ]
    }
   ],
   "source": [
    "mse2=mean_squared_error(y2_test,ypred2)\n",
    "mae2=mean_absolute_error(y2_test,ypred2)\n",
    "rmse2=np.sqrt(mse2)\n",
    "r2_2=r2_score(y2_test,ypred2)\n",
    "print('mse',mse2)\n",
    "print('mae',mae2)\n",
    "print('rmse',rmse2)\n",
    "print('r2_score',r2_2)\n",
    "print('Model_Score',model2.score(x_test,y2_test))"
   ]
  },
  {
   "cell_type": "code",
   "execution_count": null,
   "id": "a5a77e95",
   "metadata": {},
   "outputs": [],
   "source": []
  }
 ],
 "metadata": {
  "kernelspec": {
   "display_name": "Python 3 (ipykernel)",
   "language": "python",
   "name": "python3"
  },
  "language_info": {
   "codemirror_mode": {
    "name": "ipython",
    "version": 3
   },
   "file_extension": ".py",
   "mimetype": "text/x-python",
   "name": "python",
   "nbconvert_exporter": "python",
   "pygments_lexer": "ipython3",
   "version": "3.9.7"
  }
 },
 "nbformat": 4,
 "nbformat_minor": 5
}
